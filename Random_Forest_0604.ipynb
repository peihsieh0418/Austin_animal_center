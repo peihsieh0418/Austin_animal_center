{
 "cells": [
  {
   "attachments": {},
   "cell_type": "markdown",
   "metadata": {},
   "source": [
    "### `Goal`<br>\n",
    "建立可以預測待在收容所時間長短的模型"
   ]
  },
  {
   "cell_type": "code",
   "execution_count": 4,
   "metadata": {},
   "outputs": [],
   "source": [
    "import pandas as pd\n",
    "import re\n",
    "import numpy as np\n",
    "import seaborn as sns\n",
    "import matplotlib.pyplot as plt\n",
    "from sklearn.datasets import load_breast_cancer\n",
    "from sklearn.model_selection import train_test_split\n",
    "from sklearn import tree, svm, neighbors\n",
    "from sklearn.ensemble import RandomForestClassifier\n",
    "from xgboost.sklearn import XGBClassifier\n",
    "from sklearn.inspection import permutation_importance\n",
    "from sklearn.linear_model import LogisticRegression\n",
    "from sklearn.metrics import accuracy_score, recall_score, f1_score, precision_score\n",
    "import warnings\n",
    "warnings.filterwarnings('ignore')"
   ]
  },
  {
   "cell_type": "code",
   "execution_count": 5,
   "metadata": {},
   "outputs": [
    {
     "data": {
      "text/html": [
       "<div>\n",
       "<style scoped>\n",
       "    .dataframe tbody tr th:only-of-type {\n",
       "        vertical-align: middle;\n",
       "    }\n",
       "\n",
       "    .dataframe tbody tr th {\n",
       "        vertical-align: top;\n",
       "    }\n",
       "\n",
       "    .dataframe thead th {\n",
       "        text-align: right;\n",
       "    }\n",
       "</style>\n",
       "<table border=\"1\" class=\"dataframe\">\n",
       "  <thead>\n",
       "    <tr style=\"text-align: right;\">\n",
       "      <th></th>\n",
       "      <th>MonthYear</th>\n",
       "      <th>Date of Birth</th>\n",
       "      <th>Outcome Type</th>\n",
       "      <th>Animal Type</th>\n",
       "      <th>Sex upon Outcome</th>\n",
       "      <th>Age upon Outcome</th>\n",
       "      <th>Breed</th>\n",
       "      <th>Color</th>\n",
       "      <th>Pattern</th>\n",
       "      <th>Color2</th>\n",
       "      <th>MultiPattern</th>\n",
       "      <th>MultiColor</th>\n",
       "      <th>Mix</th>\n",
       "      <th>Breed2</th>\n",
       "      <th>Sex</th>\n",
       "      <th>Intact</th>\n",
       "      <th>Age</th>\n",
       "      <th>Month</th>\n",
       "      <th>Year</th>\n",
       "    </tr>\n",
       "  </thead>\n",
       "  <tbody>\n",
       "    <tr>\n",
       "      <th>0</th>\n",
       "      <td>May 2019</td>\n",
       "      <td>05/02/2017</td>\n",
       "      <td>Rto-Adopt</td>\n",
       "      <td>Cat</td>\n",
       "      <td>Neutered Male</td>\n",
       "      <td>2 year</td>\n",
       "      <td>Domestic Shorthair Mix</td>\n",
       "      <td>Brown Tabby/White</td>\n",
       "      <td>Brown Tabby</td>\n",
       "      <td>White</td>\n",
       "      <td>1</td>\n",
       "      <td>1</td>\n",
       "      <td>1</td>\n",
       "      <td>Domestic Shorthair Mix</td>\n",
       "      <td>Male</td>\n",
       "      <td>0</td>\n",
       "      <td>4</td>\n",
       "      <td>May</td>\n",
       "      <td>2019</td>\n",
       "    </tr>\n",
       "    <tr>\n",
       "      <th>1</th>\n",
       "      <td>Jul 2018</td>\n",
       "      <td>07/12/2017</td>\n",
       "      <td>Adoption</td>\n",
       "      <td>Dog</td>\n",
       "      <td>Neutered Male</td>\n",
       "      <td>1 year</td>\n",
       "      <td>Chihuahua Shorthair Mix</td>\n",
       "      <td>White/Brown</td>\n",
       "      <td>None</td>\n",
       "      <td>White/Brown</td>\n",
       "      <td>0</td>\n",
       "      <td>2</td>\n",
       "      <td>1</td>\n",
       "      <td>Chihuahua Shorthair Mix</td>\n",
       "      <td>Male</td>\n",
       "      <td>0</td>\n",
       "      <td>4</td>\n",
       "      <td>Jul</td>\n",
       "      <td>2018</td>\n",
       "    </tr>\n",
       "    <tr>\n",
       "      <th>2</th>\n",
       "      <td>Feb 2016</td>\n",
       "      <td>10/08/2015</td>\n",
       "      <td>Adoption</td>\n",
       "      <td>Dog</td>\n",
       "      <td>Neutered Male</td>\n",
       "      <td>4 month</td>\n",
       "      <td>Anatol Shepherd/Labrador Retriever</td>\n",
       "      <td>Buff</td>\n",
       "      <td>None</td>\n",
       "      <td>Buff</td>\n",
       "      <td>0</td>\n",
       "      <td>1</td>\n",
       "      <td>1</td>\n",
       "      <td>Anatol Shepherd/Labrador Retriever</td>\n",
       "      <td>Male</td>\n",
       "      <td>0</td>\n",
       "      <td>3</td>\n",
       "      <td>Feb</td>\n",
       "      <td>2016</td>\n",
       "    </tr>\n",
       "    <tr>\n",
       "      <th>3</th>\n",
       "      <td>Mar 2014</td>\n",
       "      <td>03/12/2014</td>\n",
       "      <td>Transfer</td>\n",
       "      <td>Cat</td>\n",
       "      <td>Intact Male</td>\n",
       "      <td>6 day</td>\n",
       "      <td>Domestic Shorthair Mix</td>\n",
       "      <td>Orange Tabby</td>\n",
       "      <td>Orange Tabby</td>\n",
       "      <td>None</td>\n",
       "      <td>1</td>\n",
       "      <td>0</td>\n",
       "      <td>1</td>\n",
       "      <td>Domestic Shorthair Mix</td>\n",
       "      <td>Male</td>\n",
       "      <td>1</td>\n",
       "      <td>0</td>\n",
       "      <td>Mar</td>\n",
       "      <td>2014</td>\n",
       "    </tr>\n",
       "    <tr>\n",
       "      <th>4</th>\n",
       "      <td>Oct 2020</td>\n",
       "      <td>03/24/2013</td>\n",
       "      <td>Adoption</td>\n",
       "      <td>Dog</td>\n",
       "      <td>Spayed Female</td>\n",
       "      <td>7 year</td>\n",
       "      <td>Chihuahua Shorthair Mix</td>\n",
       "      <td>Brown</td>\n",
       "      <td>None</td>\n",
       "      <td>Brown</td>\n",
       "      <td>0</td>\n",
       "      <td>1</td>\n",
       "      <td>1</td>\n",
       "      <td>Chihuahua Shorthair Mix</td>\n",
       "      <td>Female</td>\n",
       "      <td>0</td>\n",
       "      <td>5</td>\n",
       "      <td>Oct</td>\n",
       "      <td>2020</td>\n",
       "    </tr>\n",
       "    <tr>\n",
       "      <th>5</th>\n",
       "      <td>May 2020</td>\n",
       "      <td>03/01/2018</td>\n",
       "      <td>Adoption</td>\n",
       "      <td>Dog</td>\n",
       "      <td>Neutered Male</td>\n",
       "      <td>2 year</td>\n",
       "      <td>American Foxhound/Labrador Retriever</td>\n",
       "      <td>White/Brown</td>\n",
       "      <td>None</td>\n",
       "      <td>White/Brown</td>\n",
       "      <td>0</td>\n",
       "      <td>2</td>\n",
       "      <td>1</td>\n",
       "      <td>Other</td>\n",
       "      <td>Male</td>\n",
       "      <td>0</td>\n",
       "      <td>4</td>\n",
       "      <td>May</td>\n",
       "      <td>2020</td>\n",
       "    </tr>\n",
       "    <tr>\n",
       "      <th>6</th>\n",
       "      <td>Mar 2023</td>\n",
       "      <td>11/02/2020</td>\n",
       "      <td>Adoption</td>\n",
       "      <td>Dog</td>\n",
       "      <td>Neutered Male</td>\n",
       "      <td>2 year</td>\n",
       "      <td>Pit Bull Mix</td>\n",
       "      <td>Brown/White</td>\n",
       "      <td>None</td>\n",
       "      <td>Brown/White</td>\n",
       "      <td>0</td>\n",
       "      <td>2</td>\n",
       "      <td>1</td>\n",
       "      <td>Pit Bull Mix</td>\n",
       "      <td>Male</td>\n",
       "      <td>0</td>\n",
       "      <td>4</td>\n",
       "      <td>Mar</td>\n",
       "      <td>2023</td>\n",
       "    </tr>\n",
       "    <tr>\n",
       "      <th>7</th>\n",
       "      <td>Oct 2014</td>\n",
       "      <td>08/01/2014</td>\n",
       "      <td>Adoption</td>\n",
       "      <td>Cat</td>\n",
       "      <td>Neutered Male</td>\n",
       "      <td>2 month</td>\n",
       "      <td>Domestic Shorthair Mix</td>\n",
       "      <td>Black</td>\n",
       "      <td>None</td>\n",
       "      <td>Black</td>\n",
       "      <td>0</td>\n",
       "      <td>1</td>\n",
       "      <td>1</td>\n",
       "      <td>Domestic Shorthair Mix</td>\n",
       "      <td>Male</td>\n",
       "      <td>0</td>\n",
       "      <td>2</td>\n",
       "      <td>Oct</td>\n",
       "      <td>2014</td>\n",
       "    </tr>\n",
       "    <tr>\n",
       "      <th>8</th>\n",
       "      <td>Aug 2014</td>\n",
       "      <td>06/03/2014</td>\n",
       "      <td>Adoption</td>\n",
       "      <td>Cat</td>\n",
       "      <td>Neutered Male</td>\n",
       "      <td>2 month</td>\n",
       "      <td>Domestic Shorthair Mix</td>\n",
       "      <td>White/Orange Tabby</td>\n",
       "      <td>Orange Tabby</td>\n",
       "      <td>White</td>\n",
       "      <td>1</td>\n",
       "      <td>1</td>\n",
       "      <td>1</td>\n",
       "      <td>Domestic Shorthair Mix</td>\n",
       "      <td>Male</td>\n",
       "      <td>0</td>\n",
       "      <td>2</td>\n",
       "      <td>Aug</td>\n",
       "      <td>2014</td>\n",
       "    </tr>\n",
       "    <tr>\n",
       "      <th>9</th>\n",
       "      <td>Aug 2021</td>\n",
       "      <td>08/06/2019</td>\n",
       "      <td>Adoption</td>\n",
       "      <td>Dog</td>\n",
       "      <td>Spayed Female</td>\n",
       "      <td>2 year</td>\n",
       "      <td>Border Collie/Cardigan Welsh Corgi</td>\n",
       "      <td>Black/White</td>\n",
       "      <td>None</td>\n",
       "      <td>Black/White</td>\n",
       "      <td>0</td>\n",
       "      <td>2</td>\n",
       "      <td>1</td>\n",
       "      <td>Other</td>\n",
       "      <td>Female</td>\n",
       "      <td>0</td>\n",
       "      <td>4</td>\n",
       "      <td>Aug</td>\n",
       "      <td>2021</td>\n",
       "    </tr>\n",
       "  </tbody>\n",
       "</table>\n",
       "</div>"
      ],
      "text/plain": [
       "  MonthYear Date of Birth Outcome Type Animal Type Sex upon Outcome  \\\n",
       "0  May 2019    05/02/2017    Rto-Adopt         Cat    Neutered Male   \n",
       "1  Jul 2018    07/12/2017     Adoption         Dog    Neutered Male   \n",
       "2  Feb 2016    10/08/2015     Adoption         Dog    Neutered Male   \n",
       "3  Mar 2014    03/12/2014     Transfer         Cat      Intact Male   \n",
       "4  Oct 2020    03/24/2013     Adoption         Dog    Spayed Female   \n",
       "5  May 2020    03/01/2018     Adoption         Dog    Neutered Male   \n",
       "6  Mar 2023    11/02/2020     Adoption         Dog    Neutered Male   \n",
       "7  Oct 2014    08/01/2014     Adoption         Cat    Neutered Male   \n",
       "8  Aug 2014    06/03/2014     Adoption         Cat    Neutered Male   \n",
       "9  Aug 2021    08/06/2019     Adoption         Dog    Spayed Female   \n",
       "\n",
       "  Age upon Outcome                                 Breed               Color  \\\n",
       "0           2 year                Domestic Shorthair Mix   Brown Tabby/White   \n",
       "1           1 year               Chihuahua Shorthair Mix         White/Brown   \n",
       "2          4 month    Anatol Shepherd/Labrador Retriever                Buff   \n",
       "3            6 day                Domestic Shorthair Mix        Orange Tabby   \n",
       "4           7 year               Chihuahua Shorthair Mix               Brown   \n",
       "5           2 year  American Foxhound/Labrador Retriever         White/Brown   \n",
       "6           2 year                          Pit Bull Mix         Brown/White   \n",
       "7          2 month                Domestic Shorthair Mix               Black   \n",
       "8          2 month                Domestic Shorthair Mix  White/Orange Tabby   \n",
       "9           2 year    Border Collie/Cardigan Welsh Corgi         Black/White   \n",
       "\n",
       "        Pattern       Color2  MultiPattern  MultiColor  Mix  \\\n",
       "0   Brown Tabby        White             1           1    1   \n",
       "1          None  White/Brown             0           2    1   \n",
       "2          None         Buff             0           1    1   \n",
       "3  Orange Tabby         None             1           0    1   \n",
       "4          None        Brown             0           1    1   \n",
       "5          None  White/Brown             0           2    1   \n",
       "6          None  Brown/White             0           2    1   \n",
       "7          None        Black             0           1    1   \n",
       "8  Orange Tabby        White             1           1    1   \n",
       "9          None  Black/White             0           2    1   \n",
       "\n",
       "                               Breed2     Sex  Intact  Age Month  Year  \n",
       "0              Domestic Shorthair Mix    Male       0    4   May  2019  \n",
       "1             Chihuahua Shorthair Mix    Male       0    4   Jul  2018  \n",
       "2  Anatol Shepherd/Labrador Retriever    Male       0    3   Feb  2016  \n",
       "3              Domestic Shorthair Mix    Male       1    0   Mar  2014  \n",
       "4             Chihuahua Shorthair Mix  Female       0    5   Oct  2020  \n",
       "5                               Other    Male       0    4   May  2020  \n",
       "6                        Pit Bull Mix    Male       0    4   Mar  2023  \n",
       "7              Domestic Shorthair Mix    Male       0    2   Oct  2014  \n",
       "8              Domestic Shorthair Mix    Male       0    2   Aug  2014  \n",
       "9                               Other  Female       0    4   Aug  2021  "
      ]
     },
     "execution_count": 5,
     "metadata": {},
     "output_type": "execute_result"
    }
   ],
   "source": [
    "df = pd.read_csv(\"Data.csv\")\n",
    "df.head(10)"
   ]
  },
  {
   "attachments": {},
   "cell_type": "markdown",
   "metadata": {},
   "source": [
    "## 先擷取需要使用的欄位"
   ]
  },
  {
   "cell_type": "code",
   "execution_count": 6,
   "metadata": {},
   "outputs": [
    {
     "data": {
      "text/html": [
       "<div>\n",
       "<style scoped>\n",
       "    .dataframe tbody tr th:only-of-type {\n",
       "        vertical-align: middle;\n",
       "    }\n",
       "\n",
       "    .dataframe tbody tr th {\n",
       "        vertical-align: top;\n",
       "    }\n",
       "\n",
       "    .dataframe thead th {\n",
       "        text-align: right;\n",
       "    }\n",
       "</style>\n",
       "<table border=\"1\" class=\"dataframe\">\n",
       "  <thead>\n",
       "    <tr style=\"text-align: right;\">\n",
       "      <th></th>\n",
       "      <th>Outcome Type</th>\n",
       "      <th>Animal Type</th>\n",
       "      <th>MultiPattern</th>\n",
       "      <th>MultiColor</th>\n",
       "      <th>Mix</th>\n",
       "      <th>Sex</th>\n",
       "      <th>Intact</th>\n",
       "      <th>Age</th>\n",
       "    </tr>\n",
       "  </thead>\n",
       "  <tbody>\n",
       "    <tr>\n",
       "      <th>0</th>\n",
       "      <td>Rto-Adopt</td>\n",
       "      <td>Cat</td>\n",
       "      <td>1</td>\n",
       "      <td>1</td>\n",
       "      <td>1</td>\n",
       "      <td>Male</td>\n",
       "      <td>0</td>\n",
       "      <td>4</td>\n",
       "    </tr>\n",
       "    <tr>\n",
       "      <th>1</th>\n",
       "      <td>Adoption</td>\n",
       "      <td>Dog</td>\n",
       "      <td>0</td>\n",
       "      <td>2</td>\n",
       "      <td>1</td>\n",
       "      <td>Male</td>\n",
       "      <td>0</td>\n",
       "      <td>4</td>\n",
       "    </tr>\n",
       "    <tr>\n",
       "      <th>2</th>\n",
       "      <td>Adoption</td>\n",
       "      <td>Dog</td>\n",
       "      <td>0</td>\n",
       "      <td>1</td>\n",
       "      <td>1</td>\n",
       "      <td>Male</td>\n",
       "      <td>0</td>\n",
       "      <td>3</td>\n",
       "    </tr>\n",
       "    <tr>\n",
       "      <th>3</th>\n",
       "      <td>Transfer</td>\n",
       "      <td>Cat</td>\n",
       "      <td>1</td>\n",
       "      <td>0</td>\n",
       "      <td>1</td>\n",
       "      <td>Male</td>\n",
       "      <td>1</td>\n",
       "      <td>0</td>\n",
       "    </tr>\n",
       "    <tr>\n",
       "      <th>4</th>\n",
       "      <td>Adoption</td>\n",
       "      <td>Dog</td>\n",
       "      <td>0</td>\n",
       "      <td>1</td>\n",
       "      <td>1</td>\n",
       "      <td>Female</td>\n",
       "      <td>0</td>\n",
       "      <td>5</td>\n",
       "    </tr>\n",
       "  </tbody>\n",
       "</table>\n",
       "</div>"
      ],
      "text/plain": [
       "  Outcome Type Animal Type  MultiPattern  MultiColor  Mix     Sex  Intact  Age\n",
       "0    Rto-Adopt         Cat             1           1    1    Male       0    4\n",
       "1     Adoption         Dog             0           2    1    Male       0    4\n",
       "2     Adoption         Dog             0           1    1    Male       0    3\n",
       "3     Transfer         Cat             1           0    1    Male       1    0\n",
       "4     Adoption         Dog             0           1    1  Female       0    5"
      ]
     },
     "execution_count": 6,
     "metadata": {},
     "output_type": "execute_result"
    }
   ],
   "source": [
    "df_all = df[[\"Outcome Type\",\"Animal Type\",\"MultiPattern\",\"MultiColor\",\"Mix\",\"Sex\",\"Intact\",\"Age\"]]\n",
    "df_all.head()"
   ]
  },
  {
   "cell_type": "code",
   "execution_count": 7,
   "metadata": {},
   "outputs": [
    {
     "data": {
      "text/plain": [
       "Adoption           69163\n",
       "Transfer           41932\n",
       "Return to Owner    23866\n",
       "Euthanasia          4256\n",
       "Died                1165\n",
       "Rto-Adopt           1008\n",
       "Disposal             165\n",
       "Missing               70\n",
       "Relocate               6\n",
       "Stolen                 5\n",
       "Name: Outcome Type, dtype: int64"
      ]
     },
     "execution_count": 7,
     "metadata": {},
     "output_type": "execute_result"
    }
   ],
   "source": [
    "df_all[\"Outcome Type\"].value_counts()"
   ]
  },
  {
   "attachments": {},
   "cell_type": "markdown",
   "metadata": {},
   "source": [
    "### \"Outcome Type\" 分成 4 組就好，接著 one hot label"
   ]
  },
  {
   "cell_type": "code",
   "execution_count": 8,
   "metadata": {},
   "outputs": [],
   "source": [
    "df_all['MainOutcome'] = df_all['Outcome Type'].apply(lambda x: x if x in ['Adoption', 'Return to Owner', 'Transfer'] else 'Other')"
   ]
  },
  {
   "cell_type": "code",
   "execution_count": 9,
   "metadata": {},
   "outputs": [
    {
     "data": {
      "text/plain": [
       "Adoption           69163\n",
       "Transfer           41932\n",
       "Return to Owner    23866\n",
       "Other               6675\n",
       "Name: MainOutcome, dtype: int64"
      ]
     },
     "execution_count": 9,
     "metadata": {},
     "output_type": "execute_result"
    }
   ],
   "source": [
    "df_all['MainOutcome'].value_counts()"
   ]
  },
  {
   "cell_type": "code",
   "execution_count": 10,
   "metadata": {},
   "outputs": [
    {
     "data": {
      "text/html": [
       "<div>\n",
       "<style scoped>\n",
       "    .dataframe tbody tr th:only-of-type {\n",
       "        vertical-align: middle;\n",
       "    }\n",
       "\n",
       "    .dataframe tbody tr th {\n",
       "        vertical-align: top;\n",
       "    }\n",
       "\n",
       "    .dataframe thead th {\n",
       "        text-align: right;\n",
       "    }\n",
       "</style>\n",
       "<table border=\"1\" class=\"dataframe\">\n",
       "  <thead>\n",
       "    <tr style=\"text-align: right;\">\n",
       "      <th></th>\n",
       "      <th>Outcome Type</th>\n",
       "      <th>Animal Type</th>\n",
       "      <th>MultiPattern</th>\n",
       "      <th>MultiColor</th>\n",
       "      <th>Mix</th>\n",
       "      <th>Sex</th>\n",
       "      <th>Intact</th>\n",
       "      <th>Age</th>\n",
       "      <th>Adoption</th>\n",
       "      <th>Other</th>\n",
       "      <th>Return to Owner</th>\n",
       "      <th>Transfer</th>\n",
       "    </tr>\n",
       "  </thead>\n",
       "  <tbody>\n",
       "    <tr>\n",
       "      <th>0</th>\n",
       "      <td>Rto-Adopt</td>\n",
       "      <td>Cat</td>\n",
       "      <td>1</td>\n",
       "      <td>1</td>\n",
       "      <td>1</td>\n",
       "      <td>Male</td>\n",
       "      <td>0</td>\n",
       "      <td>4</td>\n",
       "      <td>0</td>\n",
       "      <td>1</td>\n",
       "      <td>0</td>\n",
       "      <td>0</td>\n",
       "    </tr>\n",
       "    <tr>\n",
       "      <th>1</th>\n",
       "      <td>Adoption</td>\n",
       "      <td>Dog</td>\n",
       "      <td>0</td>\n",
       "      <td>2</td>\n",
       "      <td>1</td>\n",
       "      <td>Male</td>\n",
       "      <td>0</td>\n",
       "      <td>4</td>\n",
       "      <td>1</td>\n",
       "      <td>0</td>\n",
       "      <td>0</td>\n",
       "      <td>0</td>\n",
       "    </tr>\n",
       "    <tr>\n",
       "      <th>2</th>\n",
       "      <td>Adoption</td>\n",
       "      <td>Dog</td>\n",
       "      <td>0</td>\n",
       "      <td>1</td>\n",
       "      <td>1</td>\n",
       "      <td>Male</td>\n",
       "      <td>0</td>\n",
       "      <td>3</td>\n",
       "      <td>1</td>\n",
       "      <td>0</td>\n",
       "      <td>0</td>\n",
       "      <td>0</td>\n",
       "    </tr>\n",
       "    <tr>\n",
       "      <th>3</th>\n",
       "      <td>Transfer</td>\n",
       "      <td>Cat</td>\n",
       "      <td>1</td>\n",
       "      <td>0</td>\n",
       "      <td>1</td>\n",
       "      <td>Male</td>\n",
       "      <td>1</td>\n",
       "      <td>0</td>\n",
       "      <td>0</td>\n",
       "      <td>0</td>\n",
       "      <td>0</td>\n",
       "      <td>1</td>\n",
       "    </tr>\n",
       "    <tr>\n",
       "      <th>4</th>\n",
       "      <td>Adoption</td>\n",
       "      <td>Dog</td>\n",
       "      <td>0</td>\n",
       "      <td>1</td>\n",
       "      <td>1</td>\n",
       "      <td>Female</td>\n",
       "      <td>0</td>\n",
       "      <td>5</td>\n",
       "      <td>1</td>\n",
       "      <td>0</td>\n",
       "      <td>0</td>\n",
       "      <td>0</td>\n",
       "    </tr>\n",
       "    <tr>\n",
       "      <th>...</th>\n",
       "      <td>...</td>\n",
       "      <td>...</td>\n",
       "      <td>...</td>\n",
       "      <td>...</td>\n",
       "      <td>...</td>\n",
       "      <td>...</td>\n",
       "      <td>...</td>\n",
       "      <td>...</td>\n",
       "      <td>...</td>\n",
       "      <td>...</td>\n",
       "      <td>...</td>\n",
       "      <td>...</td>\n",
       "    </tr>\n",
       "    <tr>\n",
       "      <th>141631</th>\n",
       "      <td>Adoption</td>\n",
       "      <td>Cat</td>\n",
       "      <td>0</td>\n",
       "      <td>1</td>\n",
       "      <td>0</td>\n",
       "      <td>Female</td>\n",
       "      <td>0</td>\n",
       "      <td>5</td>\n",
       "      <td>1</td>\n",
       "      <td>0</td>\n",
       "      <td>0</td>\n",
       "      <td>0</td>\n",
       "    </tr>\n",
       "    <tr>\n",
       "      <th>141632</th>\n",
       "      <td>Adoption</td>\n",
       "      <td>Cat</td>\n",
       "      <td>0</td>\n",
       "      <td>1</td>\n",
       "      <td>0</td>\n",
       "      <td>Female</td>\n",
       "      <td>0</td>\n",
       "      <td>4</td>\n",
       "      <td>1</td>\n",
       "      <td>0</td>\n",
       "      <td>0</td>\n",
       "      <td>0</td>\n",
       "    </tr>\n",
       "    <tr>\n",
       "      <th>141633</th>\n",
       "      <td>Adoption</td>\n",
       "      <td>Dog</td>\n",
       "      <td>0</td>\n",
       "      <td>2</td>\n",
       "      <td>1</td>\n",
       "      <td>Female</td>\n",
       "      <td>0</td>\n",
       "      <td>2</td>\n",
       "      <td>1</td>\n",
       "      <td>0</td>\n",
       "      <td>0</td>\n",
       "      <td>0</td>\n",
       "    </tr>\n",
       "    <tr>\n",
       "      <th>141634</th>\n",
       "      <td>Adoption</td>\n",
       "      <td>Cat</td>\n",
       "      <td>1</td>\n",
       "      <td>0</td>\n",
       "      <td>1</td>\n",
       "      <td>Female</td>\n",
       "      <td>0</td>\n",
       "      <td>2</td>\n",
       "      <td>1</td>\n",
       "      <td>0</td>\n",
       "      <td>0</td>\n",
       "      <td>0</td>\n",
       "    </tr>\n",
       "    <tr>\n",
       "      <th>141635</th>\n",
       "      <td>Adoption</td>\n",
       "      <td>Cat</td>\n",
       "      <td>1</td>\n",
       "      <td>0</td>\n",
       "      <td>1</td>\n",
       "      <td>Male</td>\n",
       "      <td>0</td>\n",
       "      <td>2</td>\n",
       "      <td>1</td>\n",
       "      <td>0</td>\n",
       "      <td>0</td>\n",
       "      <td>0</td>\n",
       "    </tr>\n",
       "  </tbody>\n",
       "</table>\n",
       "<p>141636 rows × 12 columns</p>\n",
       "</div>"
      ],
      "text/plain": [
       "       Outcome Type Animal Type  MultiPattern  MultiColor  Mix     Sex  \\\n",
       "0         Rto-Adopt         Cat             1           1    1    Male   \n",
       "1          Adoption         Dog             0           2    1    Male   \n",
       "2          Adoption         Dog             0           1    1    Male   \n",
       "3          Transfer         Cat             1           0    1    Male   \n",
       "4          Adoption         Dog             0           1    1  Female   \n",
       "...             ...         ...           ...         ...  ...     ...   \n",
       "141631     Adoption         Cat             0           1    0  Female   \n",
       "141632     Adoption         Cat             0           1    0  Female   \n",
       "141633     Adoption         Dog             0           2    1  Female   \n",
       "141634     Adoption         Cat             1           0    1  Female   \n",
       "141635     Adoption         Cat             1           0    1    Male   \n",
       "\n",
       "        Intact  Age  Adoption  Other  Return to Owner  Transfer  \n",
       "0            0    4         0      1                0         0  \n",
       "1            0    4         1      0                0         0  \n",
       "2            0    3         1      0                0         0  \n",
       "3            1    0         0      0                0         1  \n",
       "4            0    5         1      0                0         0  \n",
       "...        ...  ...       ...    ...              ...       ...  \n",
       "141631       0    5         1      0                0         0  \n",
       "141632       0    4         1      0                0         0  \n",
       "141633       0    2         1      0                0         0  \n",
       "141634       0    2         1      0                0         0  \n",
       "141635       0    2         1      0                0         0  \n",
       "\n",
       "[141636 rows x 12 columns]"
      ]
     },
     "execution_count": 10,
     "metadata": {},
     "output_type": "execute_result"
    }
   ],
   "source": [
    "onehot_feature = pd.get_dummies(df_all['MainOutcome'])\n",
    "df_new = df_all.drop('MainOutcome',1)\n",
    "df_new = pd.concat([df_new,onehot_feature],axis=1)\n",
    "df_new"
   ]
  },
  {
   "attachments": {},
   "cell_type": "markdown",
   "metadata": {},
   "source": [
    "### 性別標籤：放在['Sex_Code'] \n",
    "1. 刪掉不知道性別的資料\n",
    "2. 重新編號：'Female':1, 'Male':0 "
   ]
  },
  {
   "cell_type": "code",
   "execution_count": 11,
   "metadata": {},
   "outputs": [
    {
     "data": {
      "text/plain": [
       "Male       71025\n",
       "Female     65751\n",
       "Unknown     4860\n",
       "Name: Sex, dtype: int64"
      ]
     },
     "execution_count": 11,
     "metadata": {},
     "output_type": "execute_result"
    }
   ],
   "source": [
    "df_new['Sex'].value_counts()"
   ]
  },
  {
   "cell_type": "code",
   "execution_count": 12,
   "metadata": {},
   "outputs": [
    {
     "data": {
      "text/plain": [
       "Male      71025\n",
       "Female    65751\n",
       "Name: Sex, dtype: int64"
      ]
     },
     "execution_count": 12,
     "metadata": {},
     "output_type": "execute_result"
    }
   ],
   "source": [
    "df_new = df_new.drop(df_new[df_new['Sex']=='Unknown'].index)\n",
    "df_new['Sex_Code'] = df_new['Sex'].map({'Female':1, 'Male':0}).astype('int')\n",
    "df_new['Sex'].value_counts()\n"
   ]
  },
  {
   "cell_type": "code",
   "execution_count": 13,
   "metadata": {},
   "outputs": [
    {
     "data": {
      "text/html": [
       "<div>\n",
       "<style scoped>\n",
       "    .dataframe tbody tr th:only-of-type {\n",
       "        vertical-align: middle;\n",
       "    }\n",
       "\n",
       "    .dataframe tbody tr th {\n",
       "        vertical-align: top;\n",
       "    }\n",
       "\n",
       "    .dataframe thead th {\n",
       "        text-align: right;\n",
       "    }\n",
       "</style>\n",
       "<table border=\"1\" class=\"dataframe\">\n",
       "  <thead>\n",
       "    <tr style=\"text-align: right;\">\n",
       "      <th></th>\n",
       "      <th>Outcome Type</th>\n",
       "      <th>Animal Type</th>\n",
       "      <th>MultiPattern</th>\n",
       "      <th>MultiColor</th>\n",
       "      <th>Mix</th>\n",
       "      <th>Sex</th>\n",
       "      <th>Intact</th>\n",
       "      <th>Age</th>\n",
       "      <th>Adoption</th>\n",
       "      <th>Other</th>\n",
       "      <th>Return to Owner</th>\n",
       "      <th>Transfer</th>\n",
       "      <th>Sex_Code</th>\n",
       "    </tr>\n",
       "  </thead>\n",
       "  <tbody>\n",
       "    <tr>\n",
       "      <th>0</th>\n",
       "      <td>Rto-Adopt</td>\n",
       "      <td>Cat</td>\n",
       "      <td>1</td>\n",
       "      <td>1</td>\n",
       "      <td>1</td>\n",
       "      <td>Male</td>\n",
       "      <td>0</td>\n",
       "      <td>4</td>\n",
       "      <td>0</td>\n",
       "      <td>1</td>\n",
       "      <td>0</td>\n",
       "      <td>0</td>\n",
       "      <td>0</td>\n",
       "    </tr>\n",
       "    <tr>\n",
       "      <th>1</th>\n",
       "      <td>Adoption</td>\n",
       "      <td>Dog</td>\n",
       "      <td>0</td>\n",
       "      <td>2</td>\n",
       "      <td>1</td>\n",
       "      <td>Male</td>\n",
       "      <td>0</td>\n",
       "      <td>4</td>\n",
       "      <td>1</td>\n",
       "      <td>0</td>\n",
       "      <td>0</td>\n",
       "      <td>0</td>\n",
       "      <td>0</td>\n",
       "    </tr>\n",
       "    <tr>\n",
       "      <th>2</th>\n",
       "      <td>Adoption</td>\n",
       "      <td>Dog</td>\n",
       "      <td>0</td>\n",
       "      <td>1</td>\n",
       "      <td>1</td>\n",
       "      <td>Male</td>\n",
       "      <td>0</td>\n",
       "      <td>3</td>\n",
       "      <td>1</td>\n",
       "      <td>0</td>\n",
       "      <td>0</td>\n",
       "      <td>0</td>\n",
       "      <td>0</td>\n",
       "    </tr>\n",
       "    <tr>\n",
       "      <th>3</th>\n",
       "      <td>Transfer</td>\n",
       "      <td>Cat</td>\n",
       "      <td>1</td>\n",
       "      <td>0</td>\n",
       "      <td>1</td>\n",
       "      <td>Male</td>\n",
       "      <td>1</td>\n",
       "      <td>0</td>\n",
       "      <td>0</td>\n",
       "      <td>0</td>\n",
       "      <td>0</td>\n",
       "      <td>1</td>\n",
       "      <td>0</td>\n",
       "    </tr>\n",
       "    <tr>\n",
       "      <th>4</th>\n",
       "      <td>Adoption</td>\n",
       "      <td>Dog</td>\n",
       "      <td>0</td>\n",
       "      <td>1</td>\n",
       "      <td>1</td>\n",
       "      <td>Female</td>\n",
       "      <td>0</td>\n",
       "      <td>5</td>\n",
       "      <td>1</td>\n",
       "      <td>0</td>\n",
       "      <td>0</td>\n",
       "      <td>0</td>\n",
       "      <td>1</td>\n",
       "    </tr>\n",
       "  </tbody>\n",
       "</table>\n",
       "</div>"
      ],
      "text/plain": [
       "  Outcome Type Animal Type  MultiPattern  MultiColor  Mix     Sex  Intact  \\\n",
       "0    Rto-Adopt         Cat             1           1    1    Male       0   \n",
       "1     Adoption         Dog             0           2    1    Male       0   \n",
       "2     Adoption         Dog             0           1    1    Male       0   \n",
       "3     Transfer         Cat             1           0    1    Male       1   \n",
       "4     Adoption         Dog             0           1    1  Female       0   \n",
       "\n",
       "   Age  Adoption  Other  Return to Owner  Transfer  Sex_Code  \n",
       "0    4         0      1                0         0         0  \n",
       "1    4         1      0                0         0         0  \n",
       "2    3         1      0                0         0         0  \n",
       "3    0         0      0                0         1         0  \n",
       "4    5         1      0                0         0         1  "
      ]
     },
     "execution_count": 13,
     "metadata": {},
     "output_type": "execute_result"
    }
   ],
   "source": [
    "df_new.head()"
   ]
  },
  {
   "attachments": {},
   "cell_type": "markdown",
   "metadata": {},
   "source": [
    "### 年齡重新分組：6 組變 4 組\n",
    "0+1+2 / 3 / 4 / 5"
   ]
  },
  {
   "cell_type": "code",
   "execution_count": 14,
   "metadata": {},
   "outputs": [
    {
     "data": {
      "text/plain": [
       "4    53254\n",
       "2    26363\n",
       "5    22975\n",
       "3    20354\n",
       "1    11696\n",
       "0     2134\n",
       "Name: Age, dtype: int64"
      ]
     },
     "execution_count": 14,
     "metadata": {},
     "output_type": "execute_result"
    }
   ],
   "source": [
    "df_new['Age'].value_counts()"
   ]
  },
  {
   "cell_type": "code",
   "execution_count": 16,
   "metadata": {},
   "outputs": [],
   "source": [
    "df_new['Age_new'] = df_new['Age'].replace({0:0,1:0,2:0, 3:1,4:2,5:3})"
   ]
  },
  {
   "cell_type": "code",
   "execution_count": 17,
   "metadata": {},
   "outputs": [
    {
     "data": {
      "text/plain": [
       "2    53254\n",
       "0    40193\n",
       "3    22975\n",
       "1    20354\n",
       "Name: Age_new, dtype: int64"
      ]
     },
     "execution_count": 17,
     "metadata": {},
     "output_type": "execute_result"
    }
   ],
   "source": [
    "df_new['Age_new'].value_counts()"
   ]
  },
  {
   "cell_type": "code",
   "execution_count": 18,
   "metadata": {},
   "outputs": [
    {
     "data": {
      "text/html": [
       "<div>\n",
       "<style scoped>\n",
       "    .dataframe tbody tr th:only-of-type {\n",
       "        vertical-align: middle;\n",
       "    }\n",
       "\n",
       "    .dataframe tbody tr th {\n",
       "        vertical-align: top;\n",
       "    }\n",
       "\n",
       "    .dataframe thead th {\n",
       "        text-align: right;\n",
       "    }\n",
       "</style>\n",
       "<table border=\"1\" class=\"dataframe\">\n",
       "  <thead>\n",
       "    <tr style=\"text-align: right;\">\n",
       "      <th></th>\n",
       "      <th>Outcome Type</th>\n",
       "      <th>Animal Type</th>\n",
       "      <th>MultiPattern</th>\n",
       "      <th>MultiColor</th>\n",
       "      <th>Mix</th>\n",
       "      <th>Sex</th>\n",
       "      <th>Intact</th>\n",
       "      <th>Age</th>\n",
       "      <th>Adoption</th>\n",
       "      <th>Other</th>\n",
       "      <th>Return to Owner</th>\n",
       "      <th>Transfer</th>\n",
       "      <th>Sex_Code</th>\n",
       "      <th>Age_new</th>\n",
       "    </tr>\n",
       "  </thead>\n",
       "  <tbody>\n",
       "    <tr>\n",
       "      <th>0</th>\n",
       "      <td>Rto-Adopt</td>\n",
       "      <td>Cat</td>\n",
       "      <td>1</td>\n",
       "      <td>1</td>\n",
       "      <td>1</td>\n",
       "      <td>Male</td>\n",
       "      <td>0</td>\n",
       "      <td>4</td>\n",
       "      <td>0</td>\n",
       "      <td>1</td>\n",
       "      <td>0</td>\n",
       "      <td>0</td>\n",
       "      <td>0</td>\n",
       "      <td>2</td>\n",
       "    </tr>\n",
       "    <tr>\n",
       "      <th>1</th>\n",
       "      <td>Adoption</td>\n",
       "      <td>Dog</td>\n",
       "      <td>0</td>\n",
       "      <td>2</td>\n",
       "      <td>1</td>\n",
       "      <td>Male</td>\n",
       "      <td>0</td>\n",
       "      <td>4</td>\n",
       "      <td>1</td>\n",
       "      <td>0</td>\n",
       "      <td>0</td>\n",
       "      <td>0</td>\n",
       "      <td>0</td>\n",
       "      <td>2</td>\n",
       "    </tr>\n",
       "    <tr>\n",
       "      <th>2</th>\n",
       "      <td>Adoption</td>\n",
       "      <td>Dog</td>\n",
       "      <td>0</td>\n",
       "      <td>1</td>\n",
       "      <td>1</td>\n",
       "      <td>Male</td>\n",
       "      <td>0</td>\n",
       "      <td>3</td>\n",
       "      <td>1</td>\n",
       "      <td>0</td>\n",
       "      <td>0</td>\n",
       "      <td>0</td>\n",
       "      <td>0</td>\n",
       "      <td>1</td>\n",
       "    </tr>\n",
       "    <tr>\n",
       "      <th>3</th>\n",
       "      <td>Transfer</td>\n",
       "      <td>Cat</td>\n",
       "      <td>1</td>\n",
       "      <td>0</td>\n",
       "      <td>1</td>\n",
       "      <td>Male</td>\n",
       "      <td>1</td>\n",
       "      <td>0</td>\n",
       "      <td>0</td>\n",
       "      <td>0</td>\n",
       "      <td>0</td>\n",
       "      <td>1</td>\n",
       "      <td>0</td>\n",
       "      <td>0</td>\n",
       "    </tr>\n",
       "    <tr>\n",
       "      <th>4</th>\n",
       "      <td>Adoption</td>\n",
       "      <td>Dog</td>\n",
       "      <td>0</td>\n",
       "      <td>1</td>\n",
       "      <td>1</td>\n",
       "      <td>Female</td>\n",
       "      <td>0</td>\n",
       "      <td>5</td>\n",
       "      <td>1</td>\n",
       "      <td>0</td>\n",
       "      <td>0</td>\n",
       "      <td>0</td>\n",
       "      <td>1</td>\n",
       "      <td>3</td>\n",
       "    </tr>\n",
       "  </tbody>\n",
       "</table>\n",
       "</div>"
      ],
      "text/plain": [
       "  Outcome Type Animal Type  MultiPattern  MultiColor  Mix     Sex  Intact  \\\n",
       "0    Rto-Adopt         Cat             1           1    1    Male       0   \n",
       "1     Adoption         Dog             0           2    1    Male       0   \n",
       "2     Adoption         Dog             0           1    1    Male       0   \n",
       "3     Transfer         Cat             1           0    1    Male       1   \n",
       "4     Adoption         Dog             0           1    1  Female       0   \n",
       "\n",
       "   Age  Adoption  Other  Return to Owner  Transfer  Sex_Code  Age_new  \n",
       "0    4         0      1                0         0         0        2  \n",
       "1    4         1      0                0         0         0        2  \n",
       "2    3         1      0                0         0         0        1  \n",
       "3    0         0      0                0         1         0        0  \n",
       "4    5         1      0                0         0         1        3  "
      ]
     },
     "execution_count": 18,
     "metadata": {},
     "output_type": "execute_result"
    }
   ],
   "source": [
    "df_new.head()"
   ]
  },
  {
   "attachments": {},
   "cell_type": "markdown",
   "metadata": {},
   "source": [
    "### Animal Type 編碼："
   ]
  },
  {
   "cell_type": "code",
   "execution_count": 19,
   "metadata": {},
   "outputs": [
    {
     "data": {
      "text/plain": [
       "Dog    83587\n",
       "Cat    53189\n",
       "Name: Animal Type, dtype: int64"
      ]
     },
     "execution_count": 19,
     "metadata": {},
     "output_type": "execute_result"
    }
   ],
   "source": [
    "df_new['Animal Type'].value_counts()"
   ]
  },
  {
   "cell_type": "code",
   "execution_count": 20,
   "metadata": {},
   "outputs": [
    {
     "data": {
      "text/plain": [
       "1    83587\n",
       "0    53189\n",
       "Name: Animal_Type_code, dtype: int64"
      ]
     },
     "execution_count": 20,
     "metadata": {},
     "output_type": "execute_result"
    }
   ],
   "source": [
    "df_new['Animal_Type_code'] = df_new['Animal Type'].map({'Cat':0,'Dog':1}).astype(int)\n",
    "df_new['Animal_Type_code'].value_counts()"
   ]
  },
  {
   "attachments": {},
   "cell_type": "markdown",
   "metadata": {},
   "source": [
    "### 看舊收容時間分組"
   ]
  },
  {
   "cell_type": "code",
   "execution_count": 21,
   "metadata": {},
   "outputs": [],
   "source": [
    "# 將準確率放入 dict\n",
    "models_test_accuracy = {}\n",
    "models_train_accuracy = {}"
   ]
  },
  {
   "cell_type": "code",
   "execution_count": 429,
   "metadata": {},
   "outputs": [
    {
     "name": "stdout",
     "output_type": "stream",
     "text": [
      "Train clf.score =  0.4803652374530862\n",
      "Train AC =  0.4803652374530862\n",
      "Test clf.score =  0.47989472145050444\n",
      "Test AC =  0.47989472145050444\n"
     ]
    }
   ],
   "source": [
    "# XGBClassifier\n",
    "X = df_new[['Animal_Type_code','MultiColor','MultiPattern','Mix','Sex_Code','Intact','Adoption','Other','Return to Owner','Transfer']]\n",
    "y = df_new['Age']\n",
    "k = 10\n",
    "\n",
    "X_train, X_test, y_train, y_test = train_test_split(X, y, test_size = k/100, random_state=71)\n",
    "\n",
    "model_1 = XGBClassifier()\n",
    "\n",
    "model_1.fit(X_train, y_train)\n",
    "\n",
    "y_pred = model_1.predict(X_train)\n",
    "print(\"Train clf.score = \", model_1.score(X_train, y_train))\n",
    "print(\"Train AC = \", accuracy_score(y_pred, y_train))\n",
    "models_train_accuracy[\"model_1\"] = accuracy_score(y_pred, y_train)\n",
    "\n",
    "y_pred = model_1.predict(X_test)\n",
    "print(\"Test clf.score = \", model_1.score(X_test, y_test))\n",
    "print(\"Test AC = \", accuracy_score(y_pred, y_test))\n",
    "models_test_accuracy[\"model_1\"] = accuracy_score(y_pred, y_test)"
   ]
  },
  {
   "cell_type": "code",
   "execution_count": 430,
   "metadata": {},
   "outputs": [
    {
     "name": "stdout",
     "output_type": "stream",
     "text": [
      "Train clf.score =  0.48046272075907\n",
      "Train AC =  0.48046272075907\n",
      "Test clf.score =  0.48047960228103526\n",
      "Test AC =  0.48047960228103526\n"
     ]
    }
   ],
   "source": [
    "# RandomForestClassifier\n",
    "from sklearn.ensemble import RandomForestClassifier\n",
    "X = df_new[['Animal_Type_code','MultiColor','MultiPattern','Mix','Sex_Code','Intact','Adoption','Other','Return to Owner','Transfer']]\n",
    "y = df_new['Age']\n",
    "k = 10\n",
    "\n",
    "X_train, X_test, y_train, y_test = train_test_split(X, y, test_size = k/100, random_state=71)\n",
    "\n",
    "\n",
    "model_2 = RandomForestClassifier()\n",
    "\n",
    "model_2.fit(X_train, y_train)\n",
    "\n",
    "y_pred = model_2.predict(X_train)\n",
    "print(\"Train clf.score = \", model_2.score(X_train, y_train))\n",
    "print(\"Train AC = \", accuracy_score(y_pred, y_train))\n",
    "models_train_accuracy[\"model_2\"] = accuracy_score(y_pred, y_train)\n",
    "\n",
    "y_pred = model_2.predict(X_test)\n",
    "print(\"Test clf.score = \", model_2.score(X_test, y_test))\n",
    "print(\"Test AC = \", accuracy_score(y_pred, y_test))\n",
    "models_test_accuracy[\"model_2\"]=accuracy_score(y_pred, y_test)"
   ]
  },
  {
   "cell_type": "code",
   "execution_count": 431,
   "metadata": {},
   "outputs": [
    {
     "name": "stdout",
     "output_type": "stream",
     "text": [
      "{'model_1': 0.47989472145050444, 'model_2': 0.48047960228103526}\n",
      "{'model_1': 0.4803652374530862, 'model_2': 0.48046272075907}\n"
     ]
    }
   ],
   "source": [
    "print(models_test_accuracy)\n",
    "print(models_train_accuracy)"
   ]
  },
  {
   "attachments": {},
   "cell_type": "markdown",
   "metadata": {},
   "source": [
    "### 看新收容時間分組 - 4 組"
   ]
  },
  {
   "cell_type": "code",
   "execution_count": 22,
   "metadata": {},
   "outputs": [
    {
     "data": {
      "text/plain": [
       "2    53254\n",
       "0    40193\n",
       "3    22975\n",
       "1    20354\n",
       "Name: Age_new, dtype: int64"
      ]
     },
     "execution_count": 22,
     "metadata": {},
     "output_type": "execute_result"
    }
   ],
   "source": [
    "df_new['Age_new'].value_counts()"
   ]
  },
  {
   "cell_type": "code",
   "execution_count": 433,
   "metadata": {},
   "outputs": [
    {
     "name": "stdout",
     "output_type": "stream",
     "text": [
      "Train clf.score =  0.5170027132853499\n",
      "Train AC =  0.5170027132853499\n",
      "Test clf.score =  0.5181313057464542\n",
      "Test AC =  0.5181313057464542\n"
     ]
    }
   ],
   "source": [
    "# RandomForestClassifier\n",
    "from sklearn.ensemble import RandomForestClassifier\n",
    "X = df_new[['Animal_Type_code','MultiColor','MultiPattern','Mix','Sex_Code','Intact','Adoption','Other','Return to Owner','Transfer']]\n",
    "y = df_new['Age_new']\n",
    "k = 10\n",
    "\n",
    "X_train, X_test, y_train, y_test = train_test_split(X, y, test_size = k/100, random_state=71)\n",
    "\n",
    "\n",
    "model_3 = RandomForestClassifier()\n",
    "\n",
    "model_3.fit(X_train, y_train)\n",
    "\n",
    "y_pred = model_3.predict(X_train)\n",
    "print(\"Train clf.score = \", model_3.score(X_train, y_train))\n",
    "print(\"Train AC = \", accuracy_score(y_pred, y_train))\n",
    "models_train_accuracy[\"model_3\"]=accuracy_score(y_pred, y_train)\n",
    "\n",
    "y_pred = model_3.predict(X_test)\n",
    "print(\"Test clf.score = \", model_3.score(X_test, y_test))\n",
    "print(\"Test AC = \", accuracy_score(y_pred, y_test))\n",
    "models_test_accuracy[\"model_3\"]=accuracy_score(y_pred, y_test)"
   ]
  },
  {
   "attachments": {},
   "cell_type": "markdown",
   "metadata": {},
   "source": [
    "剛剛分組有提高 - 但還是很低\n",
    "改成兩兩一組 - 有不平衡的問題，後面用 SMOTE 處理"
   ]
  },
  {
   "cell_type": "code",
   "execution_count": 23,
   "metadata": {},
   "outputs": [
    {
     "data": {
      "text/plain": [
       "2    76229\n",
       "1    46717\n",
       "0    13830\n",
       "Name: Age_new, dtype: int64"
      ]
     },
     "execution_count": 23,
     "metadata": {},
     "output_type": "execute_result"
    }
   ],
   "source": [
    "df_new['Age_new'] = df_new['Age'].replace({0:0,1:0,2:1, 3:1,4:2,5:2})\n",
    "df_new['Age_new'].value_counts()"
   ]
  },
  {
   "cell_type": "code",
   "execution_count": 435,
   "metadata": {},
   "outputs": [
    {
     "name": "stdout",
     "output_type": "stream",
     "text": [
      "Train clf.score =  0.6765097727014249\n",
      "Train AC =  0.6765097727014249\n",
      "Test clf.score =  0.6766340108202954\n",
      "Test AC =  0.6766340108202954\n"
     ]
    }
   ],
   "source": [
    "# RandomForestClassifier\n",
    "from sklearn.ensemble import RandomForestClassifier\n",
    "X = df_new[['Animal_Type_code','MultiColor','MultiPattern','Mix','Sex_Code','Intact','Adoption','Other','Return to Owner','Transfer']]\n",
    "y = df_new['Age_new']\n",
    "k = 10\n",
    "\n",
    "X_train, X_test, y_train, y_test = train_test_split(X, y, test_size = k/100, random_state=71)\n",
    "\n",
    "\n",
    "model_4 = RandomForestClassifier()\n",
    "\n",
    "model_4.fit(X_train, y_train)\n",
    "\n",
    "y_pred = model_4.predict(X_train)\n",
    "print(\"Train clf.score = \", model_4.score(X_train, y_train))\n",
    "print(\"Train AC = \", accuracy_score(y_pred, y_train))\n",
    "models_train_accuracy[\"model_4\"]=accuracy_score(y_pred, y_train)\n",
    "\n",
    "y_pred = model_4.predict(X_test)\n",
    "print(\"Test clf.score = \", model_4.score(X_test, y_test))\n",
    "print(\"Test AC = \", accuracy_score(y_pred, y_test))\n",
    "models_test_accuracy[\"model_4\"]=accuracy_score(y_pred, y_test)"
   ]
  },
  {
   "cell_type": "code",
   "execution_count": 436,
   "metadata": {},
   "outputs": [
    {
     "name": "stdout",
     "output_type": "stream",
     "text": [
      "{'model_1': 0.47989472145050444, 'model_2': 0.48047960228103526, 'model_3': 0.5181313057464542, 'model_4': 0.6766340108202954}\n",
      "{'model_1': 0.4803652374530862, 'model_2': 0.48046272075907, 'model_3': 0.5170027132853499, 'model_4': 0.6765097727014249}\n"
     ]
    }
   ],
   "source": [
    "print(models_test_accuracy)\n",
    "print(models_train_accuracy)"
   ]
  },
  {
   "attachments": {},
   "cell_type": "markdown",
   "metadata": {},
   "source": [
    "--- \n",
    "\n",
    "#### 處理不平衡"
   ]
  },
  {
   "cell_type": "code",
   "execution_count": 24,
   "metadata": {},
   "outputs": [],
   "source": [
    "from sklearn.datasets import make_classification\n",
    "import matplotlib.pyplot as plt\n",
    "import seaborn as sns\n",
    "import numpy as np\n",
    "from collections import Counter\n",
    "from sklearn import tree\n",
    "from sklearn.metrics import confusion_matrix"
   ]
  },
  {
   "cell_type": "code",
   "execution_count": 25,
   "metadata": {},
   "outputs": [],
   "source": [
    "X = df_new[['Animal_Type_code','MultiColor','MultiPattern','Mix','Sex_Code','Intact','Adoption','Other','Return to Owner','Transfer']]\n",
    "y = df_new['Age_new']"
   ]
  },
  {
   "cell_type": "code",
   "execution_count": 439,
   "metadata": {},
   "outputs": [
    {
     "data": {
      "text/plain": [
       "array([[ 8180,  1395,  4255],\n",
       "       [ 3019, 19495, 24203],\n",
       "       [ 3908,  7460, 64861]], dtype=int64)"
      ]
     },
     "execution_count": 439,
     "metadata": {},
     "output_type": "execute_result"
    }
   ],
   "source": [
    "from sklearn import tree\n",
    "from sklearn.metrics import confusion_matrix\n",
    "\n",
    "clf = tree.DecisionTreeClassifier()\n",
    "clf.fit(X,y)\n",
    "y_pred = clf.predict(X)\n",
    "conf_matrix = confusion_matrix(y, y_pred)\n",
    "conf_matrix"
   ]
  },
  {
   "cell_type": "code",
   "execution_count": 440,
   "metadata": {},
   "outputs": [
    {
     "data": {
      "image/png": "[encoded data removed]",
      "text/plain": [
       "<Figure size 360x360 with 1 Axes>"
      ]
     },
     "metadata": {},
     "output_type": "display_data"
    }
   ],
   "source": [
    "\n",
    "X = df_new[['Animal_Type_code','MultiColor','MultiPattern','Mix','Sex_Code','Intact','Adoption','Other','Return to Owner','Transfer']]\n",
    "y = df_new['Age_new']\n",
    "clf = tree.DecisionTreeClassifier()\n",
    "clf.fit(X,y)\n",
    "y_pred = clf.predict(X)\n",
    "conf_matrix = confusion_matrix(y, y_pred)\n",
    "fig, ax = plt.subplots(figsize=(5, 5))\n",
    "ax.matshow(conf_matrix, cmap=plt.cm.Oranges, alpha=0.3)\n",
    "for i in range(conf_matrix.shape[0]):\n",
    "    for j in range(conf_matrix.shape[1]):\n",
    "        ax.text(x=j, y=i,s=conf_matrix[i, j], va='center', ha='center', size='xx-large')\n",
    "\n",
    "plt.xlabel('Predictions', fontsize=18)\n",
    "plt.ylabel('Actuals', fontsize=18)\n",
    "plt.title('Confusion Matrix', fontsize=18)\n",
    "plt.show()"
   ]
  },
  {
   "cell_type": "code",
   "execution_count": 441,
   "metadata": {},
   "outputs": [
    {
     "name": "stdout",
     "output_type": "stream",
     "text": [
      "              precision    recall  f1-score   support\n",
      "\n",
      "           0       0.54      0.59      0.57     13830\n",
      "           1       0.69      0.42      0.52     46717\n",
      "           2       0.70      0.85      0.77     76229\n",
      "\n",
      "    accuracy                           0.68    136776\n",
      "   macro avg       0.64      0.62      0.62    136776\n",
      "weighted avg       0.68      0.68      0.66    136776\n",
      "\n"
     ]
    }
   ],
   "source": [
    "from sklearn.metrics import classification_report # combination of above\n",
    "print(classification_report(y, y_pred))"
   ]
  },
  {
   "attachments": {},
   "cell_type": "markdown",
   "metadata": {},
   "source": [
    "### over_sampling"
   ]
  },
  {
   "cell_type": "code",
   "execution_count": 28,
   "metadata": {},
   "outputs": [
    {
     "name": "stdout",
     "output_type": "stream",
     "text": [
      "Counter({2: 76229, 1: 76229, 0: 76229})\n"
     ]
    }
   ],
   "source": [
    "from imblearn.over_sampling import SMOTE\n",
    "\n",
    "smo = SMOTE(random_state = 42)\n",
    "X_smo, y_smo = smo.fit_sample(X, y)\n",
    "print(Counter(y_smo))"
   ]
  },
  {
   "attachments": {},
   "cell_type": "markdown",
   "metadata": {},
   "source": [
    "## 特徵重要性"
   ]
  },
  {
   "cell_type": "code",
   "execution_count": 443,
   "metadata": {},
   "outputs": [],
   "source": [
    "import numpy as np\n",
    "import matplotlib.pyplot as plt\n",
    "\n",
    "def plot_feature_importances(model, title):\n",
    "    n_features = ['Animal_Type_code','MultiColor','MultiPattern','Mix','Sex_Code','Intact','Adoption','Other','Return to Owner','Transfer']\n",
    "    importances = model.feature_importances_\n",
    "    indices = np.argsort(importances)\n",
    "    plt.barh(np.arange(len(n_features)), importances[indices], align='center',color='salmon')\n",
    "    feature_names = np.array(n_features)\n",
    "    plt.xticks(fontsize=14)\n",
    "    plt.yticks(np.arange(len(n_features)), feature_names[indices],fontsize=14)\n",
    "    plt.xlabel(\"Feature importance\",fontsize=16)\n",
    "    plt.ylabel(\"Feature\",fontsize=16)\n",
    "    plt.title(title,fontsize=22)\n",
    "    plt.ylim(-1, len(n_features))\n",
    "    plt.show()\n",
    "    print('top 3 important features: ', np.flipud(feature_names[indices][-3:]))"
   ]
  },
  {
   "cell_type": "code",
   "execution_count": 444,
   "metadata": {},
   "outputs": [
    {
     "name": "stdout",
     "output_type": "stream",
     "text": [
      "Train clf.score =  0.6666375146974511\n",
      "Train AC =  0.6666375146974511\n",
      "Test clf.score =  0.6698587607678517\n",
      "Test AC =  0.6698587607678517\n"
     ]
    },
    {
     "data": {
      "image/png": "[encoded data removed]",
      "text/plain": [
       "<Figure size 576x432 with 1 Axes>"
      ]
     },
     "metadata": {},
     "output_type": "display_data"
    },
    {
     "name": "stdout",
     "output_type": "stream",
     "text": [
      "top 3 important features:  ['Intact' 'Animal_Type_code' 'Adoption']\n"
     ]
    }
   ],
   "source": [
    "from sklearn.ensemble import RandomForestClassifier\n",
    "k = 10\n",
    "\n",
    "# 將過取樣後的資料集進行訓練和測試分割\n",
    "X_train_smo, X_test_smo, y_train_smo, y_test_smo = train_test_split(X_smo, y_smo, test_size=k/100, random_state=71)\n",
    "\n",
    "# 初始化並訓練模型\n",
    "model_5 = RandomForestClassifier()\n",
    "\n",
    "model_5.fit(X_train_smo, y_train_smo)\n",
    "\n",
    "# 在過取樣後的訓練資料上進行預測並評估結果\n",
    "y_pred_smo = model_5.predict(X_train_smo)\n",
    "print(\"Train clf.score = \", model_5.score(X_train_smo, y_train_smo))\n",
    "print(\"Train AC = \", accuracy_score(y_pred_smo, y_train_smo))\n",
    "models_train_accuracy[\"model_5\"]=accuracy_score(y_pred_smo, y_train_smo)\n",
    "\n",
    "y_pred_smo = model_5.predict(X_test_smo)\n",
    "print(\"Test clf.score = \", model_5.score(X_test_smo, y_test_smo))\n",
    "print(\"Test AC = \", accuracy_score(y_pred_smo, y_test_smo))\n",
    "models_test_accuracy[\"model_5\"]=accuracy_score(y_pred_smo, y_test_smo)\n",
    "\n",
    "plot_feature_importances(model_5,\"Model 5 - Random Forest\")\n"
   ]
  },
  {
   "attachments": {},
   "cell_type": "markdown",
   "metadata": {},
   "source": [
    "### 找出最後的模型 model_6\n",
    "1. 使用 smote 後的資料 X_smo, y_smo\n",
    "2. 以 RandomForest 為模型，找出最佳的參數"
   ]
  },
  {
   "cell_type": "code",
   "execution_count": 272,
   "metadata": {},
   "outputs": [
    {
     "name": "stdout",
     "output_type": "stream",
     "text": [
      "best ratio of testing data: 10 best no. of estimators: 100 best depth: 9 best min_sample_leaf: 1 \n",
      "Training score: 0.6666277973743793 Testing score: 0.669815033451397\n"
     ]
    }
   ],
   "source": [
    "from sklearn.ensemble import RandomForestClassifier\n",
    "\n",
    "ratio = 100\n",
    "ratiovalues = [i for i in range(10, ratio, 10)]\n",
    "n_estimator = 250\n",
    "n_estimatorvalues = [i for i in range(100, n_estimator, 50)]\n",
    "depth = 10\n",
    "depthvalues = [i for i in range(1, depth)]\n",
    "leaf = 8\n",
    "leafvalues = [i for i in range(1, leaf)]\n",
    "relative_best_train_score = 0\n",
    "relative_best_test_score = 0\n",
    "relative_best_ratio = 0\n",
    "relative_best_estimators = 0\n",
    "relative_best_depth = 0\n",
    "relative_best_leaf = 0\n",
    "\n",
    "for k in ratiovalues:\n",
    "    X_train, X_test, y_train, y_test = train_test_split(X_smo, y_smo, test_size=k/100, random_state=71)\n",
    "    for l in n_estimatorvalues:\n",
    "        for i in depthvalues:\n",
    "            for j in leafvalues:\n",
    "                clf = RandomForestClassifier(random_state = 71, n_estimators = l, max_depth = i, min_samples_leaf = j)\n",
    "                clf.fit(X_train, y_train) #用 SMOTE 後的資料無誤 \n",
    "                y_pred_train = clf.predict(X_train) #train\n",
    "                train_acc = accuracy_score(y_pred_train, y_train)\n",
    "                y_pred_test = clf.predict(X_test) #test\n",
    "                test_acc = accuracy_score(y_pred_test, y_test)\n",
    "\n",
    "                if ((train_acc > relative_best_train_score) and (test_acc > relative_best_test_score)):\n",
    "                    relative_best_train_score = train_acc\n",
    "                    relative_best_test_score = test_acc\n",
    "                    relative_best_ratio = k\n",
    "                    relative_best_estimators = l\n",
    "                    relative_best_depth = i\n",
    "                    relative_best_leaf = j\n",
    "\n",
    "print(\"best ratio of testing data:\", relative_best_ratio, \"best no. of estimators:\", relative_best_estimators, \"best depth:\", relative_best_depth, \"best min_sample_leaf:\", relative_best_leaf, \\\n",
    "      \"\\nTraining score:\", relative_best_train_score, \"Testing score:\", relative_best_test_score)"
   ]
  },
  {
   "attachments": {},
   "cell_type": "markdown",
   "metadata": {},
   "source": [
    "## 儲存最好的模型 model_6\n",
    "- best ratio of testing data: 10 <br>\n",
    "- best no. of estimators: 100<br>\n",
    "- best depth: 9 <br>\n",
    "- best min_sample_leaf: 1 <br>\n",
    "- Training score: 0.6666277973743793 <br>\n",
    "- Testing score: 0.669815033451397"
   ]
  },
  {
   "cell_type": "code",
   "execution_count": 29,
   "metadata": {},
   "outputs": [
    {
     "name": "stdout",
     "output_type": "stream",
     "text": [
      "Train clf.score =  0.6666277973743793\n",
      "Train AC =  0.6666277973743793\n",
      "Test clf.score =  0.669815033451397\n",
      "Test AC =  0.669815033451397\n"
     ]
    },
    {
     "ename": "NameError",
     "evalue": "name 'plot_feature_importances' is not defined",
     "output_type": "error",
     "traceback": [
      "\u001b[1;31m---------------------------------------------------------------------------\u001b[0m",
      "\u001b[1;31mNameError\u001b[0m                                 Traceback (most recent call last)",
      "\u001b[1;32m~\\AppData\\Local\\Temp/ipykernel_25836/527501094.py\u001b[0m in \u001b[0;36m<module>\u001b[1;34m\u001b[0m\n\u001b[0;32m     22\u001b[0m \u001b[0mmodels_test_accuracy\u001b[0m\u001b[1;33m[\u001b[0m\u001b[1;34m\"model_6\"\u001b[0m\u001b[1;33m]\u001b[0m\u001b[1;33m=\u001b[0m\u001b[0maccuracy_score\u001b[0m\u001b[1;33m(\u001b[0m\u001b[0my_pred_smo\u001b[0m\u001b[1;33m,\u001b[0m \u001b[0my_test_smo\u001b[0m\u001b[1;33m)\u001b[0m\u001b[1;33m\u001b[0m\u001b[1;33m\u001b[0m\u001b[0m\n\u001b[0;32m     23\u001b[0m \u001b[1;33m\u001b[0m\u001b[0m\n\u001b[1;32m---> 24\u001b[1;33m \u001b[0mplot_feature_importances\u001b[0m\u001b[1;33m(\u001b[0m\u001b[0mmodel_6\u001b[0m\u001b[1;33m,\u001b[0m\u001b[1;34m\"Model 6 - Random Forest\"\u001b[0m\u001b[1;33m)\u001b[0m\u001b[1;33m\u001b[0m\u001b[1;33m\u001b[0m\u001b[0m\n\u001b[0m",
      "\u001b[1;31mNameError\u001b[0m: name 'plot_feature_importances' is not defined"
     ]
    }
   ],
   "source": [
    "from sklearn.ensemble import RandomForestClassifier\n",
    "\n",
    "k = 10\n",
    "\n",
    "# 將過取樣後的資料集進行訓練和測試分割\n",
    "X_train_smo, X_test_smo, y_train_smo, y_test_smo = train_test_split(X_smo, y_smo, test_size=k/100, random_state=71)\n",
    "\n",
    "# 初始化並訓練模型\n",
    "model_6 = RandomForestClassifier(random_state = 71, n_estimators = 100, max_depth = 9, min_samples_leaf = 1)\n",
    "\n",
    "model_6.fit(X_train_smo, y_train_smo)\n",
    "\n",
    "# 在過取樣後的訓練資料上進行預測並評估結果\n",
    "y_pred_smo = model_6.predict(X_train_smo)\n",
    "print(\"Train clf.score = \", model_6.score(X_train_smo, y_train_smo))\n",
    "print(\"Train AC = \", accuracy_score(y_pred_smo, y_train_smo))\n",
    "models_train_accuracy[\"model_6\"]=accuracy_score(y_pred_smo, y_train_smo)\n",
    "\n",
    "y_pred_smo = model_6.predict(X_test_smo)\n",
    "print(\"Test clf.score = \", model_6.score(X_test_smo, y_test_smo))\n",
    "print(\"Test AC = \", accuracy_score(y_pred_smo, y_test_smo))\n",
    "models_test_accuracy[\"model_6\"]=accuracy_score(y_pred_smo, y_test_smo)\n",
    "\n",
    "plot_feature_importances(model_6,\"Model 6 - Random Forest\")"
   ]
  },
  {
   "attachments": {},
   "cell_type": "markdown",
   "metadata": {},
   "source": [
    "### 最後用 K-fold 交叉驗證"
   ]
  },
  {
   "cell_type": "code",
   "execution_count": 30,
   "metadata": {},
   "outputs": [],
   "source": [
    "final_model =  model_6"
   ]
  },
  {
   "cell_type": "code",
   "execution_count": 447,
   "metadata": {},
   "outputs": [
    {
     "name": "stdout",
     "output_type": "stream",
     "text": [
      "clf.score =  0.6765368193250277\n",
      "AC =  0.6765368193250277\n",
      "[0.67316128 0.67592762 0.68152075 0.68144763 0.66532627]\n",
      "[0.67495248 0.67173563 0.67458693 0.67721889 0.6816055  0.68131306\n",
      " 0.67931564 0.6834101  0.68275207 0.64802223]\n"
     ]
    }
   ],
   "source": [
    "# K-fold\n",
    "from sklearn.model_selection import cross_val_score\n",
    "from sklearn.metrics import accuracy_score\n",
    "from sklearn import tree\n",
    "\n",
    "X = df_new[['Animal_Type_code','MultiColor','MultiPattern','Mix','Sex_Code','Intact','Adoption','Other','Return to Owner','Transfer']]\n",
    "y = df_new['Age_new']\n",
    "\n",
    "final_model.fit(X,y)\n",
    "\n",
    "y_pred = final_model.predict(X)\n",
    "print(\"clf.score = \", final_model.score(X, y))\n",
    "print(\"AC = \", accuracy_score(y_pred, y))\n",
    "\n",
    "fold5 = cross_val_score(final_model, X, y, cv=5)\n",
    "print(fold5)\n",
    "\n",
    "fold10 = cross_val_score(final_model, X, y, cv=10)\n",
    "print(fold10)"
   ]
  },
  {
   "attachments": {},
   "cell_type": "markdown",
   "metadata": {},
   "source": [
    "將 K-fold 結果畫圖"
   ]
  },
  {
   "cell_type": "code",
   "execution_count": 448,
   "metadata": {},
   "outputs": [
    {
     "data": {
      "image/png": "[encoded data removed]",
      "text/plain": [
       "<Figure size 1440x360 with 2 Axes>"
      ]
     },
     "metadata": {},
     "output_type": "display_data"
    }
   ],
   "source": [
    "fig, ax = plt.subplots(1,2,figsize=(20,5))\n",
    "\n",
    "ax[0].plot([\"fold1\",\"fold2\",\"fold3\",\"fold4\",\"fold5\" ],fold5)\n",
    "ax[0].set_title('5 Folds',{'fontsize': 18})\n",
    "ax[0].set_xlabel('Value of K for KNN',{'fontsize': 16})\n",
    "ax[0].set_ylabel('Cross-Validated Accuracy',{'fontsize': 16})\n",
    "ax[0].set_ylim([0.645,0.685])\n",
    "\n",
    "ax[1].plot([\"fold1\",\"fold2\",\"fold3\",\"fold4\",\"fold5\",\"fold6\",\"fold7\",\"fold8\",\"fold9\",\"fold10\"],fold10)\n",
    "ax[1].set_title('10 Folds',{'fontsize': 18})\n",
    "ax[1].set_xlabel('Value of K for KNN',{'fontsize': 16})\n",
    "ax[1].set_ylim([0.645,0.685])\n",
    "\n",
    "\n",
    "plt.suptitle('K-Folds',fontsize = 22)\n",
    "\n",
    "# 平均線\n",
    "ax[0].axhline(np.nanmean(fold5), color='salmon', linestyle='--', linewidth=2, label='Avg')\n",
    "ax[1].axhline(np.nanmean(fold10), color='salmon', linestyle='--', linewidth=2, label='Avg')\n",
    "plt.show()"
   ]
  },
  {
   "cell_type": "code",
   "execution_count": 449,
   "metadata": {},
   "outputs": [
    {
     "name": "stdout",
     "output_type": "stream",
     "text": [
      "{'model_1': 0.47989472145050444, 'model_2': 0.48047960228103526, 'model_3': 0.5181313057464542, 'model_4': 0.6766340108202954, 'model_5': 0.6698587607678517, 'model_6': 0.669815033451397}\n",
      "{'model_1': 0.4803652374530862, 'model_2': 0.48046272075907, 'model_3': 0.5170027132853499, 'model_4': 0.6765097727014249, 'model_5': 0.6666375146974511, 'model_6': 0.6666277973743793}\n"
     ]
    }
   ],
   "source": [
    "print(models_test_accuracy)\n",
    "print(models_train_accuracy)"
   ]
  },
  {
   "cell_type": "code",
   "execution_count": 458,
   "metadata": {},
   "outputs": [
    {
     "name": "stdout",
     "output_type": "stream",
     "text": [
      "['model_1', 'model_2', 'model_3', 'model_4', 'model_5', 'model_6']\n",
      "['model_1', 'model_2', 'model_3', 'model_4', 'model_5', 'model_6']\n"
     ]
    },
    {
     "data": {
      "text/plain": [
       "dict_values([0.47989472145050444, 0.48047960228103526, 0.5181313057464542, 0.6766340108202954, 0.6698587607678517, 0.669815033451397])"
      ]
     },
     "execution_count": 458,
     "metadata": {},
     "output_type": "execute_result"
    }
   ],
   "source": [
    "test_accuracy = []\n",
    "train_accuracy = []\n",
    "\n",
    "for test in models_test_accuracy:\n",
    "    test_accuracy.append(test)\n",
    "print(test_accuracy)\n",
    "\n",
    "for train in models_train_accuracy:\n",
    "    train_accuracy.append(train)\n",
    "print(train_accuracy)\n",
    "\n",
    "models_test_accuracy.keys()\n",
    "models_test_accuracy.values()"
   ]
  },
  {
   "cell_type": "code",
   "execution_count": 471,
   "metadata": {},
   "outputs": [
    {
     "data": {
      "image/png": "[encoded data removed]",
      "text/plain": [
       "<Figure size 1080x432 with 1 Axes>"
      ]
     },
     "metadata": {},
     "output_type": "display_data"
    }
   ],
   "source": [
    "def plot_accuracy(title):\n",
    "    plt.figure(figsize=(15,6))\n",
    "    plt.plot(models_train_accuracy.keys(), models_train_accuracy.values(), '-o', label='Train')\n",
    "    plt.plot(models_test_accuracy.keys(), models_test_accuracy.values(), '-o', label='Test')\n",
    "    plt.title(title, fontsize=20)\n",
    "    plt.xlabel(\"Models\", fontsize=16)\n",
    "    plt.ylabel(\"Score\", fontsize=16)\n",
    "    plt.xticks(fontsize=14)\n",
    "    plt.yticks(fontsize=14)\n",
    "    plt.legend()\n",
    "    plt.show()\n",
    "\n",
    "plot_accuracy('Models\\' Accuracy Scores')"
   ]
  }
 ],
 "metadata": {
  "kernelspec": {
   "display_name": "base",
   "language": "python",
   "name": "python3"
  },
  "language_info": {
   "codemirror_mode": {
    "name": "ipython",
    "version": 3
   },
   "file_extension": ".py",
   "mimetype": "text/x-python",
   "name": "python",
   "nbconvert_exporter": "python",
   "pygments_lexer": "ipython3",
   "version": "3.9.7"
  },
  "orig_nbformat": 4
 },
 "nbformat": 4,
 "nbformat_minor": 2
}
